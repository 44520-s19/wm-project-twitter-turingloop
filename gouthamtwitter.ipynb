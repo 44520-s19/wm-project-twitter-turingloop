{
 "cells": [
  {
   "cell_type": "markdown",
   "metadata": {},
   "source": [
    "# Name: Goutham Neravetla\n",
    "# Twitter account distinction\n",
    "### Twitter accounts: @naval, @paulg, @nntaleb"
   ]
  },
  {
   "cell_type": "markdown",
   "metadata": {},
   "source": [
    "## 1. Retrieve Data"
   ]
  },
  {
   "cell_type": "code",
   "execution_count": 6,
   "metadata": {},
   "outputs": [],
   "source": [
    "import tweepy\n",
    "import pickle\n",
    "\n",
    "from twitter_keys import consumer_key, consumer_secret, access_token, access_secret\n",
    "\n",
    "auth = tweepy.OAuthHandler(consumer_key, consumer_secret)\n",
    "auth.set_access_token(access_token, access_secret)\n",
    "\n",
    "api = tweepy.API(auth)\n",
    "naval_tweets = api.user_timeline('naval')\n",
    "paul_tweets = api.user_timeline('paulg')\n",
    "nntaleb_tweets = api.user_timeline('nntaleb')\n",
    "\n",
    "\n",
    "with open('naval_tweets.pkl', 'wb') as f:\n",
    "    pickle.dump(naval_tweets, f)\n",
    "with open('paul_tweets.pkl', 'wb') as f:\n",
    "    pickle.dump(paul_tweets, f)\n",
    "with open('nntaleb_tweets.pkl','wb') as f:\n",
    "    pickle.dump(nntaleb_tweets, f)  "
   ]
  },
  {
   "cell_type": "markdown",
   "metadata": {},
   "source": [
    "## 2. Read from Pickled Files"
   ]
  },
  {
   "cell_type": "code",
   "execution_count": 13,
   "metadata": {},
   "outputs": [],
   "source": [
    "import pickle \n",
    "with open('naval_tweets.pkl', 'rb') as f:\n",
    "    naval = pickle.load(f)\n",
    "with open('paul_tweets.pkl', 'rb') as f:\n",
    "    paul = pickle.load(f)\n",
    "with open('nntaleb_tweets.pkl','rb') as f:\n",
    "    nntaleb = pickle.load(f)"
   ]
  },
  {
   "cell_type": "markdown",
   "metadata": {},
   "source": [
    "## 3. Average number of likes"
   ]
  },
  {
   "cell_type": "markdown",
   "metadata": {},
   "source": [
    "I am looping through each tweet of an account, addup all the likes while keeping track of number of tweets using a counter. Then get the average likes per tweet and store it in a dictionary. Do this for every account."
   ]
  },
  {
   "cell_type": "code",
   "execution_count": 46,
   "metadata": {},
   "outputs": [
    {
     "name": "stdout",
     "output_type": "stream",
     "text": [
      "Naval Avg Likes/tweet:  67.6\n",
      "Paul Graham Avg Likes/tweet:  255.15\n",
      "Nassim Nicholas Taleb Avg Likes/tweet:  103.85\n"
     ]
    }
   ],
   "source": [
    "likes = 0\n",
    "tweet_count = 0\n",
    "likedict = {}\n",
    "for tweet in naval:\n",
    "    likes = likes + tweet.favorite_count\n",
    "    tweet_count = tweet_count + 1\n",
    "likedict['naval'] = likes/tweet_count\n",
    "print(tweet.author.name, \"Avg Likes/tweet: \" ,likes/tweet_count)\n",
    "likes = 0\n",
    "tweet_count = 0\n",
    "for tweet in paul:\n",
    "    likes = likes + tweet.favorite_count\n",
    "    tweet_count = tweet_count + 1\n",
    "likedict['paul'] = likes/len(paul)\n",
    "print(tweet.author.name, \"Avg Likes/tweet: \" ,likes/tweet_count)\n",
    "likes = 0\n",
    "tweet_count = 0\n",
    "for tweet in nntaleb:\n",
    "    likes = likes + tweet.favorite_count\n",
    "    tweet_count = tweet_count + 1\n",
    "likedict['nntaleb'] = likes/len(nntaleb)\n",
    "print(tweet.author.name, \"Avg Likes/tweet: \" ,likes/tweet_count)"
   ]
  },
  {
   "cell_type": "code",
   "execution_count": 47,
   "metadata": {},
   "outputs": [
    {
     "data": {
      "image/png": "[encoded data removed]",
      "text/plain": [
       "<Figure size 432x288 with 1 Axes>"
      ]
     },
     "metadata": {
      "needs_background": "light"
     },
     "output_type": "display_data"
    }
   ],
   "source": [
    "import matplotlib.pyplot as plt\n",
    "import numpy as np\n",
    "objects = ('Naval', 'Paul', 'NNtaleb')\n",
    "y_pos = np.arange(len(objects))\n",
    "performance = [likedict.get('naval'),likedict.get('paul'),likedict.get('nntaleb')]\n",
    "plt.bar(y_pos, performance, align='center', alpha=0.5)\n",
    "plt.xticks(y_pos, objects)\n",
    "plt.ylabel('Likes/tweet')\n",
    "plt.title('Average likes per tweet')\n",
    "plt.show()"
   ]
  },
  {
   "cell_type": "markdown",
   "metadata": {},
   "source": [
    "## 4. Average positive Sentiment per tweet"
   ]
  },
  {
   "cell_type": "markdown",
   "metadata": {},
   "source": [
    "I am looping through each tweet of an account, addup all the positive sentiment scores while keeping track of number of tweets using a counter. Then get the average positive score per tweet and store it in a dictionary. Do this for every account."
   ]
  },
  {
   "cell_type": "code",
   "execution_count": 48,
   "metadata": {},
   "outputs": [
    {
     "name": "stdout",
     "output_type": "stream",
     "text": [
      "Avg positive sentiment per naval tweet:  0.12069999999999999\n",
      "Avg positive sentiment per paul tweet:  0.1442\n",
      "Avg positive sentiment per nntaleb tweet:  0.10075\n"
     ]
    }
   ],
   "source": [
    "from vaderSentiment.vaderSentiment import SentimentIntensityAnalyzer\n",
    "analyser = SentimentIntensityAnalyzer()\n",
    "sentdict = {}\n",
    "tweet_count = 0\n",
    "posscore = 0\n",
    "for tweet in naval:\n",
    "    sentiment = analyser.polarity_scores(tweet.text)\n",
    "    posscore = posscore + sentiment.get('pos')\n",
    "    tweet_count = tweet_count + 1\n",
    "sentdict['naval'] = posscore/tweet_count\n",
    "print(\"Avg positive sentiment per naval tweet: \" , posscore/tweet_count)\n",
    "tweet_count = 0\n",
    "posscore = 0\n",
    "for tweet in paul:\n",
    "    sentiment = analyser.polarity_scores(tweet.text)\n",
    "    posscore = posscore + sentiment.get('pos')\n",
    "    tweet_count = tweet_count + 1\n",
    "sentdict['paul'] = posscore/tweet_count\n",
    "print(\"Avg positive sentiment per paul tweet: \" , posscore/tweet_count)\n",
    "tweet_count = 0\n",
    "posscore = 0\n",
    "for tweet in nntaleb:\n",
    "    sentiment = analyser.polarity_scores(tweet.text)\n",
    "    posscore = posscore + sentiment.get('pos')\n",
    "    tweet_count = tweet_count + 1\n",
    "sentdict['nntaleb'] = posscore/tweet_count\n",
    "print(\"Avg positive sentiment per nntaleb tweet: \" , posscore/tweet_count)"
   ]
  },
  {
   "cell_type": "code",
   "execution_count": 50,
   "metadata": {},
   "outputs": [
    {
     "data": {
      "image/png": "[encoded data removed]",
      "text/plain": [
       "<Figure size 432x288 with 1 Axes>"
      ]
     },
     "metadata": {
      "needs_background": "light"
     },
     "output_type": "display_data"
    }
   ],
   "source": [
    "import matplotlib.pyplot as plt\n",
    "import numpy as np\n",
    "objects = ('Naval', 'Paul', 'NNtaleb')\n",
    "y_pos = np.arange(len(objects))\n",
    "performance = [sentdict.get('naval'),sentdict.get('paul'),sentdict.get('nntaleb')]\n",
    "plt.bar(y_pos, performance, align='center', alpha=0.5)\n",
    "plt.xticks(y_pos, objects)\n",
    "plt.ylabel('Positive Sentiment Score')\n",
    "plt.title('Average positive sentiment per tweet')\n",
    "plt.show()"
   ]
  },
  {
   "cell_type": "markdown",
   "metadata": {},
   "source": [
    "## Conclusion"
   ]
  },
  {
   "cell_type": "markdown",
   "metadata": {},
   "source": [
    "One of the best distinctions i discovered between the three twitter accounts is to use a combination of average likes per tweet and positive sentiment scores. Paul Graham has the most favourites and best positive sentiment scores. Naval Ravikant has higher positive sentiment score but lower average likes per tweet than Nassim Taleb. Nassim Taleb has lower positive sentiment score but higher average likers per tweet than Naval Ravikant. This also shows Paul graham is more positive and more popular than Naval and Nassim. Nassim Taleb has more engagement per tweet, but at the same time has less positivity compared to Naval.\n"
   ]
  },
  {
   "cell_type": "code",
   "execution_count": null,
   "metadata": {},
   "outputs": [],
   "source": []
  }
 ],
 "metadata": {
  "kernelspec": {
   "display_name": "Python 3",
   "language": "python",
   "name": "python3"
  },
  "language_info": {
   "codemirror_mode": {
    "name": "ipython",
    "version": 3
   },
   "file_extension": ".py",
   "mimetype": "text/x-python",
   "name": "python",
   "nbconvert_exporter": "python",
   "pygments_lexer": "ipython3",
   "version": "3.7.3"
  }
 },
 "nbformat": 4,
 "nbformat_minor": 2
}
